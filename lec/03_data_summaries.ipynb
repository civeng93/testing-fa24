{
 "cells": [
  {
   "cell_type": "markdown",
   "id": "fa1d1764",
   "metadata": {},
   "source": [
    "# Engineering Data Analysis\n",
    "\n",
    "> **Mohamad M. Hallal, PhD** <br> Teaching Professor, UC Berkeley\n",
    "\n",
    "[![License](https://img.shields.io/badge/license-CC%20BY--NC--ND%204.0-blue)](https://creativecommons.org/licenses/by-nc-nd/4.0/)\n",
    "***"
   ]
  },
  {
   "cell_type": "markdown",
   "id": "87237015",
   "metadata": {},
   "source": [
    "# Data Summaries \n",
    "\n",
    "In this notebook, we'll explore how to compute summary statistics and create graphical summaries using NVIDIA's historical stock price data. These are essential tools for data analysis, helping us understand the central tendencies, variability, and distribution of stock prices.\n",
    "\n",
    "Let's get started!"
   ]
  },
  {
   "cell_type": "markdown",
   "id": "882fd70e",
   "metadata": {},
   "source": [
    "# Dataset\n",
    "\n",
    "Let's load the provided data set `NVDA.csv`. These are all the features:\n",
    "\n",
    "| Feature  | Units | Description                            |\n",
    "| :-       | :-    | :-                                     |\n",
    "| Date     |       | Day of the year                        |\n",
    "| Open     | \\$    | Opening price of the stock that day    |\n",
    "| High     | \\$    | Highest price of the stock that day    |\n",
    "| Low      | \\$    | Lowest price of the stock that day     |\n",
    "| Close    | \\$    | Closing price of the stock that day    |\n",
    "| Volume   |       | Total number of shared traded that day |\n",
    "\n",
    "*[Data source](https://finance.yahoo.com/quote/NVDA/history/)*\n",
    "\n",
    "Run the cell below, which reads the data and saves it as a variable named `data`."
   ]
  },
  {
   "cell_type": "code",
   "execution_count": null,
   "id": "31f43456",
   "metadata": {},
   "outputs": [],
   "source": [
    "# Loading Data\n",
    "import pandas as pd\n",
    "\n",
    "# Load dataset\n",
    "data = pd.read_csv('resources/NVDA.csv')\n",
    "\n",
    "# Display the first few rows of the data using the head() method\n",
    "data.head()"
   ]
  },
  {
   "cell_type": "markdown",
   "id": "97ead171",
   "metadata": {},
   "source": [
    "# Summary Statistics\n",
    "\n",
    "Summary statistics give us an overview of NVIDIA's stock prices. We'll compute the mean, median, mode, standard deviation, variance, min, max, and quantiles for the `'Close'` prices.\n",
    "\n",
    "We will be working with different columns of the dataset (opening price, closing price, etc.). So, let's create different variables for each column in the dataset.\n",
    "\n",
    "One way to do this is using `DataFrame['column label']`, where `DataFrame` should be replaced with the DataFrame's name.\n",
    "\n",
    "<div class=\"alert alert-block alert-info\"> <b>YOUR TURN!</b> Assign the values of the closing price to the variable <code>Close</code>.</div>"
   ]
  },
  {
   "cell_type": "code",
   "execution_count": null,
   "id": "8f051933",
   "metadata": {},
   "outputs": [],
   "source": [
    "# extract closing price data\n",
    "Close = ..."
   ]
  },
  {
   "cell_type": "markdown",
   "id": "ea08f012",
   "metadata": {},
   "source": [
    "DataFrames have several built-in methods that could be used to obtain descriptive statistics. Below is a list of some common methods.\n",
    "\n",
    "| Method          | Description                                              |\n",
    "| :-------------- | :------------------------------------------------------- |\n",
    "| `mean()`        | Return the mean of the values                            |\n",
    "| `median()`      | Return the median of the values                          |\n",
    "| `mode()`        | Return the mode(s) of the values                         |\n",
    "| `std()`         | Return the sample standard deviation of the values       |\n",
    "| `var()`         | Return the sample variance of the values                 |\n",
    "| `min()`         | Return the minimum of the values                         |\n",
    "| `max()`         | Return the maximum of the values                         |\n",
    "| `quantile([q])` | Return the specific quantiles of the values              |\n",
    "\n",
    "The syntax for these methods is `DataFrame.method()`. These are just a few of the methods available for obtaining descriptive statistics. For a complete list, you can refer to the [official documentation](https://pandas.pydata.org/pandas-docs/stable/reference/frame.html#computations-descriptive-stats).\n",
    "\n",
    "<div class=\"alert alert-block alert-info\"> <b>YOUR TURN!</b> Compute the mean, median, mode(s), standard deviation, variance, coefficient of variation, range, and quantiles of the closing price.</div> "
   ]
  },
  {
   "cell_type": "code",
   "execution_count": null,
   "id": "ad1f65a8",
   "metadata": {},
   "outputs": [],
   "source": [
    "# compute the mean of the closing price\n",
    "mean = ...\n",
    "print(f'The mean closing price is: ${mean:.3f}')"
   ]
  },
  {
   "cell_type": "code",
   "execution_count": null,
   "id": "e113e190-c1ae-4809-9c89-232c2ebaa8c9",
   "metadata": {},
   "outputs": [],
   "source": [
    "# compute the median of the closing price\n",
    "median = ...\n",
    "print(f'The median closing price is: ${median:.3f}')"
   ]
  },
  {
   "cell_type": "code",
   "execution_count": null,
   "id": "fc9e6407-504f-46bf-b786-f54bfc969292",
   "metadata": {},
   "outputs": [],
   "source": [
    "# compute the modes of the closing price\n",
    "mode = ...\n",
    "print(f'The mode(s) of the closing price is(are): ${[round(mode.iloc[i],3) for i in range(len(mode))]}')"
   ]
  },
  {
   "cell_type": "code",
   "execution_count": null,
   "id": "b18e2255-36cf-4527-87fc-92e92a74df10",
   "metadata": {},
   "outputs": [],
   "source": [
    "# compute the standard deviation of the closing price\n",
    "stdev = ...\n",
    "print(f'The standard deviation of the closing price is: ${stdev:.3f}')"
   ]
  },
  {
   "cell_type": "code",
   "execution_count": null,
   "id": "98fc0d35-6e5b-495e-bbff-1f9d322aebcd",
   "metadata": {},
   "outputs": [],
   "source": [
    "# compute the variance of the closing price\n",
    "var = ...\n",
    "print(f'The variance of the closing price is: $^2 {var:.3f}')"
   ]
  },
  {
   "cell_type": "code",
   "execution_count": null,
   "id": "0c46637b-c831-42cd-909e-cc9c13d4a740",
   "metadata": {},
   "outputs": [],
   "source": [
    "# compute the coefficient of variation of the closing price\n",
    "cv = ...\n",
    "print(f'The coefficient of variation of the closing price is: {cv:.0f}%')"
   ]
  },
  {
   "cell_type": "code",
   "execution_count": null,
   "id": "d2314ceb-419a-4e9b-9566-1672ed3ec6b4",
   "metadata": {},
   "outputs": [],
   "source": [
    "# compute the range of the closing price\n",
    "range_price = ...\n",
    "print(f'The range of the closing price is: ${range_price:.3f}')"
   ]
  },
  {
   "cell_type": "code",
   "execution_count": null,
   "id": "7e1c2c70-32ac-46ce-b039-5f9d24c2b023",
   "metadata": {},
   "outputs": [],
   "source": [
    "# compute the quantiles of the closing price\n",
    "quantiles  = ...\n",
    "print(f'The quantiles of the closing price are: $ {[round(quantiles.iloc[i],3) for i in range(len(quantiles))]}')"
   ]
  },
  {
   "cell_type": "markdown",
   "id": "59f710e7",
   "metadata": {},
   "source": [
    "# Graphical Summaries\n",
    "\n",
    "Graphical summaries help us visualize the distribution and relationships within NVIDIA's stock prices. We'll create histograms, box plots, scatter plots, and line plots.\n",
    "\n",
    "## Histogram\n",
    "\n",
    "Histograms are used to visualize the distribution of numerical data. In Python, you can use the `hist()` function from `matplotlib.pyplot` to plot a histogram. The `hist()` function has many optional parameters. A full list can be found in the [documentation](https://matplotlib.org/stable/api/_as_gen/matplotlib.axes.Axes.hist.html). Here is the basic syntax, along with some common optional parameters:\n",
    "\n",
    "```python\n",
    "plt.hist(x, bins=None, color=None, ec=None, ...)\n",
    "```\n",
    "\n",
    "where:\n",
    "* `x`: array or sequence of arrays which includes input values (required)\n",
    "* `bins`: integer number of bins or sequence of bin edges, default: `bins=10` (optional)\n",
    "* `color`: color or sequence of colors for the bars (optional)\n",
    "* `ex`: color or sequence of colors for the edges of the bars (optional)\n",
    "\n",
    "<div class=\"alert alert-block alert-info\"> <b>YOUR TURN!</b> Plot a histogram of the closing price with 12 bins and black edge color. Label the axes.</div> "
   ]
  },
  {
   "cell_type": "code",
   "execution_count": null,
   "id": "f574b6ed",
   "metadata": {},
   "outputs": [],
   "source": [
    "import matplotlib.pyplot as plt\n",
    "\n",
    "# plot the histogram\n",
    "...\n",
    "\n",
    "# label the axes\n",
    "...\n",
    "\n",
    "plt.show()"
   ]
  },
  {
   "cell_type": "markdown",
   "id": "3ef225c1",
   "metadata": {},
   "source": [
    "## Boxplot\n",
    "\n",
    "Boxplots are also used to visualize the distribution of numerical data through their quartiles. In Python, you can use the `boxplot()` function from `matplotlib.pyplot`. The `boxplot()` function has many optional parameters. A full list can be found in the [documentation](https://matplotlib.org/stable/api/_as_gen/matplotlib.pyplot.boxplot.html). Here is the basic syntax, along with some common optional parameters:\n",
    "\n",
    "```python\n",
    "plt.hist(x, vert=True, showfliers=True, ...)\n",
    "```\n",
    "\n",
    "where:\n",
    "* `x`: array or sequence of arrays which includes input values (required)\n",
    "* `vert`: If True, draws vertical boxes. If False, draw horizontal boxes, default: `vert=True` (optional)\n",
    "* `showfliers`: If True, shows the outliers. If False, doesn't show the outliers, default: `showfliers=True` (optional)\n",
    "\n",
    "<div class=\"alert alert-block alert-info\"> <b>YOUR TURN!</b> Create boxplots of the opening, low, high and closing daily prices. Label the axes. Try with and without showing the outliers.</div> "
   ]
  },
  {
   "cell_type": "code",
   "execution_count": null,
   "id": "ce8dc686",
   "metadata": {},
   "outputs": [],
   "source": [
    "# extract opening, low, and high price data\n",
    "Open = data['Open']\n",
    "Low = data['Low']\n",
    "High = data['High']\n",
    "\n",
    "# plot the boxplot\n",
    "...\n",
    "\n",
    "# label the y axis\n",
    "...\n",
    "\n",
    "# label data\n",
    "plt.xticks(ticks=range(1,5), labels=['Open', 'Low', 'High', 'Close'])\n",
    "\n",
    "plt.show()"
   ]
  },
  {
   "cell_type": "markdown",
   "id": "893e0d0b",
   "metadata": {},
   "source": [
    "## Scatter Plot\n",
    "\n",
    "Scatter plots are used to visualize the relationship between two numerical variables. In Python, you can use the `scatter()` function from `matplotlib.pyplot`. The `scatter()` function has many optional parameters. A full list can be found in the [documentation](https://matplotlib.org/stable/api/_as_gen/matplotlib.pyplot.scatter.html). Here is the basic syntax, along with some common optional parameters:\n",
    "\n",
    "```python\n",
    "plt.scatter(x, y, s=None, c=None, marker=None, edgecolors=None, ...)\n",
    "```\n",
    "\n",
    "where:\n",
    "* `x`: array-like or scalar horizontal coordinates of the data points (required)\n",
    "* `y`: array-like or scalar vertical coordinates of the data points (required)\n",
    "* `s`: float or array-like specifying the marker size (optional)\n",
    "* `c`: marker colors (optional)\n",
    "* `marker`: string of marker style, default `marker='o'` (optional)\n",
    "* `edgecolors`: edge color of the marker, default same color as face/fill (optional)\n",
    "\n",
    "<div class=\"alert alert-block alert-info\"> <b>YOUR TURN!</b> Create a scatter plot of the closing (y) versus opening (x) price. Label the axes.</div> "
   ]
  },
  {
   "cell_type": "code",
   "execution_count": null,
   "id": "b20a7676",
   "metadata": {},
   "outputs": [],
   "source": [
    "# create the scatter plot\n",
    "...\n",
    "\n",
    "# label the axes\n",
    "plt.xlabel('Opening Price ($)')\n",
    "plt.ylabel('Closing Price ($)')\n",
    "\n",
    "plt.show()"
   ]
  },
  {
   "cell_type": "markdown",
   "id": "e0499536",
   "metadata": {},
   "source": [
    "## Line Graph\n",
    "\n",
    "Line graphs are used to visualize trends over time. In Python, you can use the `plot()` function from `matplotlib.pyplot`. The `scatter()` function has many optional parameters. Here is the basic syntax, along with some common optional parameters:\n",
    "\n",
    "```python\n",
    "plt.plot(x, y, color=None, linestyle=None, marker=None, markerfacecolor=None, ...)\n",
    "```\n",
    "The table below includes a list of some of the common keyword arguments for 2-D line plots. A comprehensive list can be found in the [documentation](https://matplotlib.org/stable/api/_as_gen/matplotlib.lines.Line2D.html#matplotlib.lines.Line2D).\n",
    "\n",
    "| Property                   | Description                                         | Example          |\n",
    "| :------------------------- | :-------------------------------------------------- | :--------------- |\n",
    "| `alpha`                    | float (0.0 transparent through 1.0 opaque)          | `alpha = .5`     | \n",
    "| `color` or `c`             | any *matplotlib* color                              | `c = 'b'`        |\n",
    "| `linestyle` or `ls`        | string of line style character(s)                   | `ls = ':'`       |\n",
    "| `linewidth` or `lw`        | float to set line width in points                   | `lw = 2`         |\n",
    "| `marker`                   | string of marker style                              | `marker = 'o'`   |\n",
    "| `markeredgecolor` or `mec` | any *matplotlib* color to set color for marker edge | `mec = 'r'`      | \n",
    "| `markerfacecolor` or `mfc` | any *matplotlib* color to set color for marker fill | `mfc = 'r'`      | \n",
    "| `markersize` or `ms`       | float to set marker size in points                  | `ms = 5`         | \n",
    "\n",
    "<div class=\"alert alert-block alert-info\"> <b>YOUR TURN!</b> Create a line graph of the closing price. Label the axes.</div> "
   ]
  },
  {
   "cell_type": "code",
   "execution_count": null,
   "id": "7d8ab226",
   "metadata": {},
   "outputs": [],
   "source": [
    "# extract date\n",
    "Date = data['Date']\n",
    "\n",
    "# plot the line graph\n",
    "...\n",
    "\n",
    "# label the axes\n",
    "plt.xlabel('Date')\n",
    "plt.ylabel('Closing Price ($)')\n",
    "\n",
    "# control x axis tick marks\n",
    "plt.xticks(Date[::1492])\n",
    "\n",
    "plt.show()"
   ]
  }
 ],
 "metadata": {
  "kernelspec": {
   "display_name": "Python 3 (ipykernel)",
   "language": "python",
   "name": "python3"
  },
  "language_info": {
   "codemirror_mode": {
    "name": "ipython",
    "version": 3
   },
   "file_extension": ".py",
   "mimetype": "text/x-python",
   "name": "python",
   "nbconvert_exporter": "python",
   "pygments_lexer": "ipython3",
   "version": "3.11.9"
  }
 },
 "nbformat": 4,
 "nbformat_minor": 5
}
