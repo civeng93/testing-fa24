{
 "cells": [
  {
   "cell_type": "markdown",
   "id": "fa1d1764",
   "metadata": {},
   "source": [
    "# Engineering Data Analysis\n",
    "\n",
    "> **Mohamad M. Hallal, PhD** <br> Teaching Professor, UC Berkeley\n",
    "\n",
    "[![License](https://img.shields.io/badge/license-CC%20BY--NC--ND%204.0-blue)](https://creativecommons.org/licenses/by-nc-nd/4.0/)\n",
    "***"
   ]
  },
  {
   "cell_type": "markdown",
   "id": "0c1b78be",
   "metadata": {},
   "source": [
    "# Lognormal Distribution\n",
    "\n",
    "In this notebook, we will explore a common continuous distribution known as the lognormal distribution. The lognormal distribution is used for modeling various natural phenomena such as income, amount of rainfall, length of chess games, stock prices, and many others. Due to its mathematical nature, the lognormal distribution can be confusing. So, we'll try to break it down to understand its properties, parameters, and its relation to the normal distribution. \n",
    "\n",
    "Let's get started!"
   ]
  },
  {
   "cell_type": "markdown",
   "id": "76115dec",
   "metadata": {},
   "source": [
    "## Basic Properties\n",
    "\n",
    "At this stage, you're likely familiar with the normal distribution. \n",
    "\n",
    "<div class=\"alert alert-block alert-warning\"> <b>DISCUSS!</b> What are some of the properties of the normal distribution? Specifically: <br> <b>Is it skewed left, symmetric, or skewed right?</b> \n",
    "    <br> <b>What is the range of values of a normal distribution?</b>\n",
    "    <br> <b>What are the key parameters that define a normal distribution?</b>\n",
    "    <br> <b>How are the mean and median related?</b></div> \n",
    "\n",
    "You can think of the lognormal distribution as a close relative of the normal distribution. It is related to the normal distribution but with some modifications.\n",
    "\n",
    "<div class=\"alert alert-block alert-warning\"> <b>DISCUSS!</b> We mentioned above that various natural phenomena generally follow a lognormal distribution. What are some properties of these examples (income, amount of rainfall, length of a chess game, stock prices)? Specifically: <br> <b>Do you expect these datasets to be skewed left, symmetric, or skewed right?</b> \n",
    "    <br> <b>What is the range of values of these examples? Can they take negative values?</b></div> \n",
    "    \n",
    "Let's explore an actual dataset to better answer these questions and understand key properties of lognormal distributions."
   ]
  },
  {
   "cell_type": "markdown",
   "id": "f33a0a47",
   "metadata": {},
   "source": [
    "## Dataset\n",
    "\n",
    "We will investigate NVIDIA's historical stock price dataset, specifically, the daily trading volume. \n",
    "\n",
    "> In capital markets, volume, or trading volume, is the amount of a security that was traded during a given period of time. In the context of a single stock trading on a stock exchange, the volume is commonly reported as the number of shares that changed hands during a given day. [Source](https://en.wikipedia.org/wiki/Volume_(finance))\n",
    "\n",
    "Let's load the provided data set `NVDA.csv`. These are all the features:\n",
    "\n",
    "| Feature  | Units | Description                            |\n",
    "| :-       | :-    | :-                                     |\n",
    "| Date     |       | Day of the year                        |\n",
    "| Open     | \\$    | Opening price of the stock that day    |\n",
    "| High     | \\$    | Highest price of the stock that day    |\n",
    "| Low      | \\$    | Lowest price of the stock that day     |\n",
    "| Close    | \\$    | Closing price of the stock that day    |\n",
    "| Volume   |       | Total number of shared traded that day |\n",
    "\n",
    "Run the cell below, which reads the data and saves it as a variable named `data` and then extracts the trading volume and saves it as a variable named `Volume`."
   ]
  },
  {
   "cell_type": "code",
   "execution_count": null,
   "id": "59af1f0a",
   "metadata": {},
   "outputs": [],
   "source": [
    "import pandas as pd\n",
    "\n",
    "# Load dataset\n",
    "data = pd.read_csv('resources/NVDA.csv')\n",
    "\n",
    "# extract volume data\n",
    "Volume = data['Volume']\n",
    "\n",
    "# Display the first few rows of the data using the head() method\n",
    "data.head()"
   ]
  },
  {
   "cell_type": "markdown",
   "id": "e50aaf8b",
   "metadata": {},
   "source": [
    "Let's first visually examine the distribution of the trading volume. Note that the data has been extracted and saved as variable `Volume`.\n",
    "\n",
    "<div class=\"alert alert-block alert-info\"> <b>YOUR TURN!</b> Compute the mean and the median of the trading volume (after computing them, we have provided you with a code to plot them as vertical lines). Then, create a histogram of the trading volume using 80 bins. Label the axes and set the x-axis limits to $(0, 3 \\times 10^9)$ and the y-axis limit to $(0, 1200)$.</div>\n",
    "\n",
    "*Hint: Recall that you can compute descriptive statistics using methods such as `DataFrame.mean()` and `DataFrame.median()`, create a histogram using `plt.hist(data, bins=...)`, set the x-axis limits using `plt.xlim((xmin, xmax))`, and set the y-axis limits using `plt.ylim((ymin, ymax))`.*"
   ]
  },
  {
   "cell_type": "code",
   "execution_count": null,
   "id": "3b3a1edb",
   "metadata": {},
   "outputs": [],
   "source": [
    "import matplotlib.pyplot as plt\n",
    "import numpy as np\n",
    "\n",
    "# compute mean and median of Volume\n",
    "mean = ...\n",
    "median = ...\n",
    "\n",
    "# plot the mean and median as vertical lines\n",
    "plt.vlines(mean, 0, 1200, color='r', label='Mean')\n",
    "plt.vlines(median, 0, 1200, color='c', ls='--', label='Median')\n",
    "\n",
    "# add legend\n",
    "plt.legend()\n",
    "\n",
    "# plot the histogram\n",
    "...\n",
    "\n",
    "# label the axes\n",
    "...\n",
    "\n",
    "# control axes\n",
    "...\n",
    "\n",
    "plt.show()"
   ]
  },
  {
   "cell_type": "markdown",
   "id": "7cb23d4a",
   "metadata": {},
   "source": [
    "<div class=\"alert alert-block alert-warning\"> <b>DISCUSS!</b> What do you observe from the plot above? Specifically: <br> <b>What is the range of values of this dataset?</b> \n",
    "    <br> <b>Is it skewed left, symmetric, or skewed right?</b>\n",
    "    <br> <b>How does the mean relate to the median?</b></div>\n",
    "    \n",
    "The trading volume dataset follows a lognormal distribution, so your answers to the above questions are general properties of the lognormal distribution."
   ]
  },
  {
   "cell_type": "markdown",
   "id": "a2d8dbbe",
   "metadata": {},
   "source": [
    "## Relation to Normal Distribution\n",
    "\n",
    "The name **log**normal reveals that it relates to logarithms as well as the normal distribution. So let's explore this relation.\n",
    "\n",
    "We will transform the volume trading dataset and see if we obtain one of the common distributions that we already encountered. \n",
    "\n",
    "Specifically, let's take the natural logarithm of the volume trading dataset and check its distribution.\n",
    "\n",
    "<div class=\"alert alert-block alert-info\"> <b>YOUR TURN!</b> Compute the natural logarithm of the volume trading dataset and save it as variable <code>log_Volume</code>. Then, compute the mean and the median of <code>log_Volume</code> (after computing them, we have provided you with a code to plot them as vertical lines). Finally, create a histogram of <code>log_Volume</code> using 23 bins and label the axes. Set the y-axis limit to $(0, 1200)$.</div>\n",
    "\n",
    "*Hint: You can use `np.log(data)` to compute the natural logarithm of a dataset.*"
   ]
  },
  {
   "cell_type": "code",
   "execution_count": null,
   "id": "6bc30538",
   "metadata": {},
   "outputs": [],
   "source": [
    "# compute natural log of Volume\n",
    "log_Volume = ...\n",
    "\n",
    "# compute mean and median of log(Volume)\n",
    "log_mean = ...\n",
    "log_median = ...\n",
    "\n",
    "# plot the mean and median as vertical lines\n",
    "plt.vlines(log_mean, 0, 1200, color='r', label='Mean')\n",
    "plt.vlines(log_median, 0, 1200, color='c', ls='--', label='Median')\n",
    "\n",
    "# add legend\n",
    "plt.legend()\n",
    "\n",
    "# plot the histogram\n",
    "...\n",
    "\n",
    "# label the axes\n",
    "...\n",
    "\n",
    "# control axes\n",
    "...\n",
    "\n",
    "plt.show()"
   ]
  },
  {
   "cell_type": "markdown",
   "id": "24b146f4",
   "metadata": {},
   "source": [
    "<div class=\"alert alert-block alert-warning\"> <b>DISCUSS!</b> What do you observe from the plot above? Specifically: <br> <b>Is the log(Volume) dataset skewed left, symmetric, or skewed right?</b>\n",
    "    <br> <b>How does the mean relate to the median?</b>\n",
    "    <br> <b>Does this look like one of the common distributions that we already discussed?</b></div>\n",
    "    \n",
    "We previously mentioned that the trading volume dataset follows a lognormal distribution.\n",
    "\n",
    "<div class=\"alert alert-block alert-warning\"> <b>DISCUSS!</b> Based on the above observations, continue the following statement: <br> <b>If $X$ follows a lognormal distribution, then $Y=\\log(X)$ follows a ______ distribution.</b>\n",
    "    <br> Now let's reverse this logic. Continue the following statement:\n",
    "    <br> <b>If $Y$ follows a normal distribution, then $X=$ _____ follows a lognormal distribution.</b></div>"
   ]
  },
  {
   "cell_type": "markdown",
   "id": "a10c3605",
   "metadata": {},
   "source": [
    "## Parameters\n",
    "\n",
    "The probability density function of the lognormal distribution is given by:\n",
    "\n",
    "$$f(x; \\mu, \\sigma) = \\frac{1}{x\\sigma\\sqrt{2\\pi}} \\exp\\left(-\\frac{(\\log x - \\mu)^2}{2\\sigma^2}\\right) \\quad \\text{for } x > 0$$\n",
    "\n",
    "As you can see, the lognormal distribution has two parameters, $\\mu$ and $\\sigma$. However, these parameters might not be what you expect. So let's try to find out what are the parameters of the lognormal distribution.\n",
    "\n",
    "Below, we have provided you with a function that computes the PDF of the lognormal distribution based on the equation above. Run the cell below to define the function."
   ]
  },
  {
   "cell_type": "code",
   "execution_count": null,
   "id": "ccece4df",
   "metadata": {},
   "outputs": [],
   "source": [
    "lognorm = lambda x, mu, sigma: 1/(x*sigma*np.sqrt(2*np.pi)) * np.exp(-(np.log(x)-mu)**2/(2*sigma**2))"
   ]
  },
  {
   "cell_type": "markdown",
   "id": "e791e781",
   "metadata": {},
   "source": [
    "Next, we'll try to plot the density histogram of the trading volume data and the PDF of the lognormal distribution to see which parameters give a PDF that matches the density histogram.\n",
    "\n",
    "<div class=\"alert alert-block alert-info\"> <b>YOUR TURN!</b> Compute the mean and the standard deviation of <code>Volume</code> as well as the mean and standard deviation of <code>log_Volume</code>. <br> Then, create a <b>density</b> histogram of <code>Volume</code> using 80 bins. <br> Next, compute the PDF of the lognormal distribution using the function <code>lognorm()</code>. Set the parameters equal to the mean and standard deviation of Volume and plot the resulting PDF over the histogram to evaluate the fit. Then, set the parameters equal to the mean and standard deviation of <code>log_Volume</code>, and plot this PDF over the histogram to evaluate the fit.</div>\n",
    "\n",
    "*Hint: To plot density histogram, use `plt.hist(data, bins, density=True)`.*"
   ]
  },
  {
   "cell_type": "code",
   "execution_count": null,
   "id": "a64d9f4b",
   "metadata": {},
   "outputs": [],
   "source": [
    "# compute mean and stdev of Volume\n",
    "mean = ...\n",
    "stdev = ...\n",
    "\n",
    "# compute mean and stdev of log(Volume)\n",
    "log_mean = ...\n",
    "log_stdev = ...\n",
    "\n",
    "# plot density histogram of Volume data\n",
    "...\n",
    "\n",
    "# compute PDF\n",
    "x = np.arange(1,3*10**9,10**3)\n",
    "density = lognorm(x, mu=..., sigma=...)\n",
    "\n",
    "# plot theoretical density function\n",
    "plt.plot(x, density)\n",
    "\n",
    "# label axes\n",
    "plt.xlabel('Trading Volume')\n",
    "plt.ylabel('Density')\n",
    "\n",
    "# control axes\n",
    "plt.xlim((0,3*10**9))\n",
    "\n",
    "plt.show()"
   ]
  },
  {
   "cell_type": "markdown",
   "id": "f808d71c",
   "metadata": {},
   "source": [
    "<div class=\"alert alert-block alert-warning\"> <b>DISCUSS!</b> Which $\\mu$ and $\\sigma$ values provide a better fit for the lognormal distribution? What does this tell you about the parameters of the lognormal distribution?</div>"
   ]
  }
 ],
 "metadata": {
  "kernelspec": {
   "display_name": "Python 3 (ipykernel)",
   "language": "python",
   "name": "python3"
  },
  "language_info": {
   "codemirror_mode": {
    "name": "ipython",
    "version": 3
   },
   "file_extension": ".py",
   "mimetype": "text/x-python",
   "name": "python",
   "nbconvert_exporter": "python",
   "pygments_lexer": "ipython3",
   "version": "3.9.13"
  }
 },
 "nbformat": 4,
 "nbformat_minor": 5
}
