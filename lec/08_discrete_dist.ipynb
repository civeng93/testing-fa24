{
 "cells": [
  {
   "cell_type": "markdown",
   "id": "fa1d1764",
   "metadata": {},
   "source": [
    "# Engineering Data Analysis\n",
    "\n",
    "> **Mohamad M. Hallal, PhD** <br> Teaching Professor, UC Berkeley\n",
    "\n",
    "[![License](https://img.shields.io/badge/license-CC%20BY--NC--ND%204.0-blue)](https://creativecommons.org/licenses/by-nc-nd/4.0/)\n",
    "***"
   ]
  },
  {
   "cell_type": "markdown",
   "id": "be768732",
   "metadata": {},
   "source": [
    "# Common Discrete Distributions\n",
    "\n",
    "In this notebook, we will explore common discrete distributions and learn how to use them with the `scipy.stats` library. Discrete distributions are used to model scenarios where outcomes are distinct and countable. The `scipy.stats` library has built-in methods that ca be used to directly obtain the probability mass function (PMF), cumulative distribution function (CDF), mean, variance, and more of any common distribution. However, it is **very important** to understand the inputs to these distributions in Python, as they might differ from what we discussed in class.\n",
    "\n",
    "Let's get started!"
   ]
  },
  {
   "cell_type": "markdown",
   "id": "b387adfd",
   "metadata": {},
   "source": [
    "# Bernoulli Distribution\n",
    "\n",
    "The Bernoulli distribution is the simplest discrete distribution, representing a single trial with two possible outcomes: success (1) or failure (0). It is characterized by a single parameter, $p$, which is the probability of success.\n",
    "\n",
    "| Distribution      | Python function |\n",
    "|:------------------|:----------------|\n",
    "| Bernoulli         | [`bernoulli(p)`](https://docs.scipy.org/doc/scipy/reference/generated/scipy.stats.bernoulli.html#scipy.stats.bernoulli) |\n",
    "\n",
    "Each distribution has built-in methods to directly calculate summary statistics, PMF, CDF, and even obtain a random sample. Below is a table summarizing some common methods available for discrete distributions in `scipy.stats`:\n",
    "\n",
    "| Method     | Description                                    | General Example    | Bernoulli Example                  |\n",
    "|:-----------|:-----------------------------------------------|:-------------------|:-----------------------------------|\n",
    "| `pmf()`    | Computes the PMF at specific value(s)          | `dist.pmf(k)`      | `bernoulli.pmf(p=0.5, k=0)`        |\n",
    "| `cdf()`    | Computes the CDF at specific value(s)          | `dist.cdf(k)`      | `bernoulli.cdf(p=0.5, k=range(2))` |\n",
    "| `mean()`   | Computes the expected value                    | `dist.mean()`      | `bernoulli.mean(p=0.5)`            |\n",
    "| `median()` | Computes the median                            | `dist.median()`    | `bernoulli.median(p=0.5)`          |\n",
    "| `var()`    | Computes the variance                          | `dist.var()`       | `bernoulli.var(p=0.5)`             |\n",
    "| `std()`    | Computes the standard deviation                | `dist.std()`       | `bernoulli.std(p=0.5)`             |\n",
    "| `rvs()`    | Generates random samples from the distribution | `dist.rvs(size=n)` | `bernoulli.rvs(p=0.5, size=10)`    |\n",
    "\n",
    "<div class=\"alert alert-block alert-info\"> <b>YOUR TURN!</b> Compute the mean and standard deviation of a Bernoulli distribution with $p= 0.8$.</div> "
   ]
  },
  {
   "cell_type": "code",
   "execution_count": null,
   "id": "0e49033f",
   "metadata": {},
   "outputs": [],
   "source": [
    "from scipy.stats import bernoulli\n",
    "\n",
    "# compute mean\n",
    "mean = ...\n",
    "print(f'Mean: {mean:.2f}')\n",
    "\n",
    "# compute standard deviation\n",
    "std = ...\n",
    "print(f'Standard deviation: {std:.2f}')"
   ]
  },
  {
   "cell_type": "markdown",
   "id": "bf04588e",
   "metadata": {},
   "source": [
    "# Binomial Distribution\n",
    "\n",
    "The Binomial distribution generalizes the Bernoulli distribution to multiple trials. It represents the number of successes in $n$ independent Bernoulli trials, each with probability $p$ of success.\n",
    "\n",
    "\n",
    "| Distribution      | Python function |\n",
    "|:------------------|:----------------|\n",
    "| Binomial          | [`binom(n, p)`](https://docs.scipy.org/doc/scipy/reference/generated/scipy.stats.binom.html#scipy.stats.binom) |\n",
    "\n",
    "<div class=\"alert alert-block alert-info\"> <b>YOUR TURN!</b> Compute and plot the PMF of a Binomial distribution with 10 trials $p= 0.8$.</div> "
   ]
  },
  {
   "cell_type": "code",
   "execution_count": null,
   "id": "33f4216a",
   "metadata": {},
   "outputs": [],
   "source": [
    "from scipy.stats import binom\n",
    "import matplotlib.pyplot as plt\n",
    "\n",
    "# Parameters\n",
    "n = ...  # Number of trials\n",
    "p = ...  # Probability of success\n",
    "\n",
    "# x values\n",
    "x = range(13)\n",
    "\n",
    "# plot PMF using plt.vlines(x, ymin, ymax)\n",
    "...\n",
    "\n",
    "# plot markers of the pmf using plt.scatter(x, y)\n",
    "...\n",
    "\n",
    "# label the axes\n",
    "...\n",
    "\n",
    "# control the y axis\n",
    "plt.ylim(0, 0.35)\n",
    "\n",
    "plt.show()"
   ]
  },
  {
   "cell_type": "markdown",
   "id": "611610e3",
   "metadata": {},
   "source": [
    "# Poisson Distribution\n",
    "\n",
    "The Poisson distribution models the number of events occurring within a fixed interval of time or space, given a known constant occurrence rate $\\lambda$. It is often used for rare events.\n",
    "\n",
    "| Distribution      | Python function |\n",
    "|:------------------|:----------------|\n",
    "| Poisson           | [`poisson(mu)`](https://docs.scipy.org/doc/scipy/reference/generated/scipy.stats.poisson.html#scipy.stats.poisson) |\n",
    "\n",
    "In the lecture, we mentioned that the Poisson distribution can be parametrized by either the rate of occurrence or the average number of occurrence. However, as shown above, the Poisson distribution accepts a single input parameter, `mu`, so it is important to understand what does this parameter represent.\n",
    "\n",
    "In the documentation of `scipy.stats.poisson`, the probability mass function (PMF) of the Poisson distribution is given as:\n",
    "\n",
    "$$f(k) = \\text{exp}(-\\mu)\\dfrac{\\mu^k}{k!}, \\ \\ \\ k = \\{0, 1, 2, ...\\}$$\n",
    "\n",
    "This is equivalent to what we defined in the lecture. If $\\lambda$ is the average **number** of occurrences in the time interval we are interested in, $t$, we defined the PMF as:\n",
    "\n",
    "$$f(x) = \\dfrac{e^{-\\lambda} \\lambda^x}{x!}, \\ \\ \\ x = \\{0, 1, 2, ...\\}$$\n",
    "\n",
    "If $\\lambda$ is the average **rate** of occurrences in the time interval we are interested in, $t$, we defined the PMF as:\n",
    "\n",
    "$$f(x) = \\dfrac{e^{-\\lambda t} (\\lambda t)^x}{x!}, \\ \\ \\ x = \\{0, 1, 2, ...\\}$$\n",
    "\n",
    "By comparing the given equation for the probability mass function in the documentation of `scipy.stats.poisson` with the lecture notes, it should be evident that $\\mu$ represents the average **number** of occurrences in the time interval we are interested in, $t$.\n",
    "\n",
    "<div class=\"alert alert-block alert-info\"> <b>YOUR TURN!</b> Compute and plot the CDF of the number of earthquakes over 100 years, which occur at an average rate of 1 every 10 years.</div> "
   ]
  },
  {
   "cell_type": "code",
   "execution_count": null,
   "id": "bcf85410",
   "metadata": {},
   "outputs": [],
   "source": [
    "from scipy.stats import poisson\n",
    "\n",
    "# Parameters\n",
    "rate = ...    # Rate of occurrence\n",
    "t = ...       # time of interest\n",
    "mu = ...      # Average number of occurrences\n",
    "\n",
    "# x values\n",
    "x = range(26)\n",
    "\n",
    "# plot CDF using plt.step(x, y, clip_on=False, where='post')\n",
    "...\n",
    "\n",
    "# label the axes\n",
    "...\n",
    "\n",
    "# control the axes\n",
    "plt.ylim(0, 1)\n",
    "plt.xlim(0, 25)\n",
    "\n",
    "plt.show()"
   ]
  },
  {
   "cell_type": "markdown",
   "id": "4ed7668e",
   "metadata": {},
   "source": [
    "These are only some of the common discrete distributions. You will explore other common discrete distributions in the lab."
   ]
  }
 ],
 "metadata": {
  "kernelspec": {
   "display_name": "Python 3 (ipykernel)",
   "language": "python",
   "name": "python3"
  },
  "language_info": {
   "codemirror_mode": {
    "name": "ipython",
    "version": 3
   },
   "file_extension": ".py",
   "mimetype": "text/x-python",
   "name": "python",
   "nbconvert_exporter": "python",
   "pygments_lexer": "ipython3",
   "version": "3.9.13"
  }
 },
 "nbformat": 4,
 "nbformat_minor": 5
}
