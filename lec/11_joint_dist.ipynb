{
 "cells": [
  {
   "cell_type": "markdown",
   "id": "6d3ff535",
   "metadata": {},
   "source": [
    "# Engineering Data Analysis\n",
    "\n",
    "> **Mohamad M. Hallal, PhD** <br> Teaching Professor, UC Berkeley\n",
    "\n",
    "[![License](https://img.shields.io/badge/license-CC%20BY--NC--ND%204.0-blue)](https://creativecommons.org/licenses/by-nc-nd/4.0/)\n",
    "***"
   ]
  },
  {
   "cell_type": "markdown",
   "id": "c08b5010",
   "metadata": {},
   "source": [
    "# Covariance and Correlation\n",
    "\n",
    "In this notebook, we will explore how to compute covariance and correlation using Python. These statistical measures help to understand the relationship between two variables. We will use `numpy` for these calculations.\n",
    "\n",
    "Let's get started!"
   ]
  },
  {
   "cell_type": "markdown",
   "id": "796d6ede",
   "metadata": {},
   "source": [
    "# Dataset\n",
    "\n",
    "Let's load the provided data set `NVDA.csv`. These are all the features:\n",
    "\n",
    "| Feature  | Units | Description                            |\n",
    "| :-       | :-    | :-                                     |\n",
    "| Date     |       | Day of the year                        |\n",
    "| Open     | \\$    | Opening price of the stock that day    |\n",
    "| High     | \\$    | Highest price of the stock that day    |\n",
    "| Low      | \\$    | Lowest price of the stock that day     |\n",
    "| Close    | \\$    | Closing price of the stock that day    |\n",
    "| Volume   |       | Total number of shared traded that day |\n",
    "\n",
    "Run the cell below, which reads the data and saves it as a variable named `data`."
   ]
  },
  {
   "cell_type": "code",
   "execution_count": null,
   "id": "946f9a79",
   "metadata": {},
   "outputs": [],
   "source": [
    "import pandas as pd\n",
    "\n",
    "# Load dataset\n",
    "data = pd.read_csv('resources/NVDA.csv')\n",
    "\n",
    "# Display the first few rows of the data using the head() method\n",
    "data.head()"
   ]
  },
  {
   "cell_type": "markdown",
   "id": "af36aff2",
   "metadata": {},
   "source": [
    "Let's first visually examine if there is any relationship between the opening and closing daily stock price. \n",
    "\n",
    "<div class=\"alert alert-block alert-info\"> <b>YOUR TURN!</b> Create a scatter plot of the closing (y) versus opening (x) price. Label the axes.</div> "
   ]
  },
  {
   "cell_type": "code",
   "execution_count": null,
   "id": "3152db9c",
   "metadata": {},
   "outputs": [],
   "source": [
    "import matplotlib.pyplot as plt\n",
    "\n",
    "# plot the scatter plot\n",
    "...\n",
    "\n",
    "# label the axes\n",
    "plt.xlabel('Opening Price ($)')\n",
    "plt.ylabel('Closing Price ($)')\n",
    "\n",
    "plt.show()"
   ]
  },
  {
   "cell_type": "markdown",
   "id": "9217b202",
   "metadata": {},
   "source": [
    "<div class=\"alert alert-block alert-warning\"> <b>DISCUSS!</b> <b>What does the scatter plot tell you about the relationship between the closing and opening price?</b></div> "
   ]
  },
  {
   "cell_type": "markdown",
   "id": "655b6f6c",
   "metadata": {},
   "source": [
    "# Covariance\n",
    "\n",
    "Covariance is a measure of the joint variability of two random variables. It indicates the direction of the linear relationship between the variables. A positive covariance indicates that the variables tend to move in the same direction, while a negative covariance indicates that they tend to move in opposite directions.\n",
    "\n",
    "In the lecture, we only discussed the covariance between two random variables: $Cov(X,Y)$. We can also compute something known as the covariance **matrix**. `Python` provides a direct way to compute the covariance **matrix** using `np.cov(X,Y)`, which returns:\n",
    "\n",
    "\\begin{bmatrix}\n",
    "Var(X) & Cov(X,Y)\\\\\n",
    "Cov(Y,X) & Var(Y)\n",
    "\\end{bmatrix}\n",
    "\n",
    "The diagonal elements of the matrix contain the variances of the variables, and the off-diagonal elements contain the covariances between all possible pairs of variables. We mentioned in the lecture that $Cov(X,Y)=Cov(Y,X)$. So, the off-diagonal values will be equal.\n",
    "\n",
    "The covariance matrix shows the covariance between each pair of variables, including that of the variable with itself.\n",
    "\n",
    "<div class=\"alert alert-block alert-info\"> <b>YOUR TURN!</b> Compute the covariance matrix between the opening and closing daily stock price. Then, extract the covariance between the two variables.</div> \n",
    "\n",
    "<div class=\"alert alert-block alert-warning\"> <b>DISCUSS!</b> <b>Interpret the value of the covariance.</b></div> "
   ]
  },
  {
   "cell_type": "code",
   "execution_count": null,
   "id": "223795a0",
   "metadata": {},
   "outputs": [],
   "source": [
    "import numpy as np\n",
    "\n",
    "# compute covariance matrix\n",
    "cov_matrix = ...\n",
    "print(f'Covariance matrix: \\n {cov_matrix} \\n')\n",
    "\n",
    "# get cov(X,Y)\n",
    "cov = ...\n",
    "print(f'Covariance: $^2 {cov:.2f}')"
   ]
  },
  {
   "cell_type": "markdown",
   "id": "5ea7177c",
   "metadata": {},
   "source": [
    "<div class=\"alert alert-block alert-info\"> <b>YOUR TURN!</b> Compute the covariance matrix between the opening stock price and daily trading volume. Then, extract the covariance between the two variables.</div> \n",
    "\n",
    "<div class=\"alert alert-block alert-warning\"> <b>DISCUSS!</b> <b>Interpret the value of the covariance.</b></div> "
   ]
  },
  {
   "cell_type": "code",
   "execution_count": null,
   "id": "19369656",
   "metadata": {},
   "outputs": [],
   "source": [
    "# compute covariance matrix\n",
    "cov_matrix = ...\n",
    "print(f'Covariance matrix: \\n {cov_matrix} \\n')\n",
    "\n",
    "# get cov(X,Y)\n",
    "cov = ...\n",
    "print(f'Covariance: $ x shares {cov:.2f}')"
   ]
  },
  {
   "cell_type": "markdown",
   "id": "23d0950b",
   "metadata": {},
   "source": [
    "# Correlation\n",
    "\n",
    "Correlation is a standardized measure of the linear relationship between two variables. It ranges from -1 to 1, where -1 indicates a perfect negative linear relationship, 1 indicates a perfect positive linear relationship, and 0 indicates no linear relationship.\n",
    "\n",
    "`Python` also provides a direct way to compute the correlation **matrix** using `np.corrcoef(X,Y)`, which returns:\n",
    "\n",
    "\\begin{bmatrix}\n",
    "1 & \\rho_{XY}\\\\\n",
    "\\rho_{YX} & 1\n",
    "\\end{bmatrix}\n",
    "\n",
    "The diagonal elements of the matrix contain the correlation of the variables with themselves (which is 1), and the off-diagonal elements contain the correlation coefficients between all possible pairs of variables.\n",
    "\n",
    "The correlation matrix shows the correlation between each pair of variables, including that of the variable with itself.\n",
    "\n",
    "<div class=\"alert alert-block alert-info\"> <b>YOUR TURN!</b> Compute the correlation matrix between the opening and closing daily stock price. Then, extract the correlation between the two variables.</div>\n",
    "\n",
    "<div class=\"alert alert-block alert-warning\"> <b>DISCUSS!</b> <b>Interpret the value of the correlation coefficient.</b></div> "
   ]
  },
  {
   "cell_type": "code",
   "execution_count": null,
   "id": "4d948c80",
   "metadata": {},
   "outputs": [],
   "source": [
    "# compute correlation matrix\n",
    "cor_matrix = ...\n",
    "print(f'Correlation matrix: \\n {cor_matrix} \\n')\n",
    "\n",
    "# get cov(X,Y)\n",
    "cor = ...\n",
    "print(f'Correlation: {cor:.4f}')"
   ]
  },
  {
   "cell_type": "markdown",
   "id": "f4e8ba32",
   "metadata": {},
   "source": [
    "<div class=\"alert alert-block alert-info\"> <b>YOUR TURN!</b> Compute the correlation matrix between the opening stock price and daily trading volume. Then, extract the correlation between the two variables.</div> \n",
    "\n",
    "<div class=\"alert alert-block alert-warning\"> <b>DISCUSS!</b> <b>Interpret the value of the correlation coefficient.</b></div> "
   ]
  },
  {
   "cell_type": "code",
   "execution_count": null,
   "id": "529a213d",
   "metadata": {},
   "outputs": [],
   "source": [
    "# compute correlation matrix\n",
    "cor_matrix = ...\n",
    "print(f'Correlation matrix: \\n {cor_matrix} \\n')\n",
    "\n",
    "# get cov(X,Y)\n",
    "cor = ...\n",
    "print(f'Correlation: {cor:.4f}')"
   ]
  },
  {
   "cell_type": "markdown",
   "id": "ae5ddacb",
   "metadata": {},
   "source": [
    "<div class=\"alert alert-block alert-info\"> <b>YOUR TURN!</b> Create a scatter plot of the trading volume (y) versus opening price (x). Label the axes.</div> "
   ]
  },
  {
   "cell_type": "code",
   "execution_count": null,
   "id": "3ff10418",
   "metadata": {},
   "outputs": [],
   "source": [
    "import matplotlib.pyplot as plt\n",
    "\n",
    "# create the scatter plot\n",
    "...\n",
    "\n",
    "# label the axes\n",
    "plt.xlabel('Opening Price ($)')\n",
    "plt.ylabel('Trading Volume (shares)')\n",
    "\n",
    "plt.show()"
   ]
  }
 ],
 "metadata": {
  "kernelspec": {
   "display_name": "Python 3 (ipykernel)",
   "language": "python",
   "name": "python3"
  },
  "language_info": {
   "codemirror_mode": {
    "name": "ipython",
    "version": 3
   },
   "file_extension": ".py",
   "mimetype": "text/x-python",
   "name": "python",
   "nbconvert_exporter": "python",
   "pygments_lexer": "ipython3",
   "version": "3.9.13"
  }
 },
 "nbformat": 4,
 "nbformat_minor": 5
}
