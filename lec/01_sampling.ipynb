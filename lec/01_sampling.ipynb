{
 "cells": [
  {
   "cell_type": "markdown",
   "id": "fa1d1764",
   "metadata": {},
   "source": [
    "# Engineering Data Analysis\n",
    "\n",
    "> **Mohamad M. Hallal, PhD** <br> Teaching Professor, UC Berkeley\n",
    "\n",
    "[![License](https://img.shields.io/badge/license-CC%20BY--NC--ND%204.0-blue)](https://creativecommons.org/licenses/by-nc-nd/4.0/)\n",
    "***"
   ]
  },
  {
   "cell_type": "markdown",
   "id": "a112598d",
   "metadata": {},
   "source": [
    "# Sampling\n",
    "\n",
    "In this notebook, we'll select random samples of different sizes to investigate sampling variation. Sampling variation refers to the differences that can occur in statistics (such as the mean) when different random samples are taken from the same population.\n",
    "\n",
    "Let's get started!"
   ]
  },
  {
   "cell_type": "markdown",
   "id": "a7500f85",
   "metadata": {},
   "source": [
    "## Dataset\n",
    "\n",
    "We will create a dataset of bedrock depth at Treasure Island as our population from which we'll draw samples.\n",
    "\n",
    "Run the cell below to define some functions that we will use later. You won't see any output after running this cell because it only defines the function."
   ]
  },
  {
   "cell_type": "code",
   "execution_count": null,
   "id": "5f307f72",
   "metadata": {},
   "outputs": [],
   "source": [
    "import numpy as np\n",
    "from PIL import Image\n",
    "import matplotlib.pyplot as plt\n",
    "import random\n",
    "import ipywidgets as widgets\n",
    "\n",
    "# create indexes\n",
    "indexes = [[i,j] for i in range(9) for j in range(14)]\n",
    "del_indexes = [[0,0], [0,1], [1,0], [0,12], [0,13], [1,13], [7,0], [8,0], [8,1]]\n",
    "indexes = [item for item in indexes if item not in del_indexes]\n",
    "\n",
    "# create depths data\n",
    "depths = np.array([[0 , 0 , 45, 48, 51, 49, 50, 52, 49, 53, 54, 55, 0 , 0 ], \n",
    "                  [0 , 42, 47, 48, 43, 41, 45, 49, 50, 50, 55, 54, 49, 0 ],\n",
    "                  [37, 38, 45, 46, 49, 47, 51, 52, 51, 55, 56, 54, 59, 58],\n",
    "                  [39, 41, 42, 44, 46, 43, 47, 49, 55, 57, 54, 59, 60, 62],\n",
    "                  [41, 38, 39, 47, 49, 51, 47, 45, 53, 60, 57, 62, 63, 59],\n",
    "                  [43, 36, 40, 49, 50, 48, 53, 54 ,51, 58, 54, 60, 49, 65],\n",
    "                  [49, 46, 48, 52, 58, 60, 65, 59, 62, 55, 64, 59, 66, 68],\n",
    "                  [0 , 50, 55, 56, 51, 65, 68, 66, 70, 66, 71, 68, 69, 73], \n",
    "                  [0 , 0 , 60, 57, 55, 50, 48, 55, 63, 70, 69, 72, 71, 75]])\n",
    "\n",
    "# define plotting function\n",
    "def plot_sample(size, repetitions):\n",
    "    # create figure\n",
    "    fig, ax = plt.subplots(1,2, figsize=(10,5), gridspec_kw={'width_ratios': [2, 1]}, dpi=300)\n",
    "    ax[0].imshow(img)\n",
    "    # define colors\n",
    "    colors = plt.cm.get_cmap('jet', repetitions)\n",
    "    colors = [colors(i) for i in range(repetitions)]\n",
    "    # iterate through repetitions\n",
    "    for i in range(repetitions):\n",
    "        # select random sample\n",
    "        indexes_rand = random.choices(indexes, k=size)\n",
    "        total = 0\n",
    "        # iterate through samples\n",
    "        for j in indexes_rand:\n",
    "            # plot location of sample\n",
    "            ax[0].scatter(245+j[1]*125+125/2, 205+j[0]*127+127/2, s=300, ec=colors[i],  facecolor=(0,0,0,0))\n",
    "            total += depths[j[0]][j[1]]\n",
    "        \n",
    "        # plot sample mean\n",
    "        ax[1].scatter(0, total/size, fc=colors[i], zorder=10)\n",
    "    \n",
    "    # contol axes\n",
    "    ax[1].text(-0.025, 55, 'Sample Mean', rotation = 90, verticalalignment='center')\n",
    "    ax[1].plot([-0.01, 0.01], [np.mean(depths[depths!=0])]*2, color='r')\n",
    "    ax[1].text(0.015, np.mean(depths[depths!=0]), 'Population Mean', c='r', verticalalignment='center')\n",
    "    ax[1].axvline(0, color='k')\n",
    "    ax[1].set_ylim(35,75)\n",
    "    ax[1].set_xlim(-0.03,0.03)\n",
    "    ax[0].set_axis_off()\n",
    "    ax[1].set_axis_off()\n",
    "    \n",
    "    # Show the plot\n",
    "    plt.show()"
   ]
  },
  {
   "cell_type": "markdown",
   "id": "9af2fac8",
   "metadata": {},
   "source": [
    "## Simple Random Sampling\n",
    "\n",
    "Simple random sampling is a technique where each member of the population has an equal chance of being selected. This method helps to avoid bias and ensures that the sample is representative of the entire population.\n",
    "\n",
    "Let's draw random samples of different sizes from this population. We'll calculate the mean for each sample and compare them to the population mean. \n",
    "\n",
    "<div class=\"alert alert-block alert-info\"> <b>YOUR TURN!</b> Run the cell below and change the sliders to adjust the sample size and how many samples of that size to select. Pay attention to how the sample means change as you change the sample size.</div> "
   ]
  },
  {
   "cell_type": "code",
   "execution_count": null,
   "id": "a3594219",
   "metadata": {},
   "outputs": [],
   "source": [
    "# Load the image\n",
    "img = Image.open('resources/treasure_island.png')\n",
    "\n",
    "# create 2 sliders for size and repetitions\n",
    "@widgets.interact(size=(1,30,5), repetitions=(1,10,2))\n",
    "\n",
    "# define a function that takes the values from the sliders and plots the results\n",
    "def sampling(size, repetitions):\n",
    "    # Call the function to plot\n",
    "    plot_sample(size, repetitions) \n",
    "    return"
   ]
  },
  {
   "cell_type": "markdown",
   "id": "7ddf180a",
   "metadata": {},
   "source": [
    "<div class=\"alert alert-block alert-warning\"> <b>DISCUSS!</b> What do you observe from the plots above? Specifically: <br> <b>Do samples of the same size have the same sample mean? Why or why not?</b> \n",
    "    <br> <b>Does changing the sample size affect sampling variation? Why or why not?</b>\n",
    "    <br> <b>Do larger or smaller samples give better estimates of the population mean? Why?</b>\n",
    "    <br> <b>Does sampling variation get eliminated for larger samples? Why or why not? </b></div> "
   ]
  },
  {
   "cell_type": "markdown",
   "id": "5216583a",
   "metadata": {},
   "source": [
    "## Convenience Sampling\n",
    "\n",
    "Convenience sampling is a non-random sampling technique where samples are taken from a group that is conveniently accessible to the researcher. This method can introduce bias because it might not represent the entire population accurately. Let's select random samples of different sizes assuming we have access to only part of Treasure Island.\n",
    "\n",
    "Run the cell below to define the new dataset:"
   ]
  },
  {
   "cell_type": "code",
   "execution_count": null,
   "id": "5d9f9c20",
   "metadata": {},
   "outputs": [],
   "source": [
    "# create indexes\n",
    "indexes = [[i,j] for i in range(5) for j in range(5)]\n",
    "del_indexes = [[0,0], [0,1], [1,0]]\n",
    "indexes = [item for item in indexes if item not in del_indexes]"
   ]
  },
  {
   "cell_type": "markdown",
   "id": "fc17e464",
   "metadata": {},
   "source": [
    "Now, let's draw random samples of different sizes from the area we have access to. We'll calculate the mean for each sample and compare them to the population mean.\n",
    "\n",
    "<div class=\"alert alert-block alert-info\"> <b>YOUR TURN!</b> Run the cell below and change the sliders to adjust the sample size and how many samples of that size to select. Pay attention to how the sample means change as you change the sample size.</div> "
   ]
  },
  {
   "cell_type": "code",
   "execution_count": null,
   "id": "49ecf554",
   "metadata": {},
   "outputs": [],
   "source": [
    "# Load the image\n",
    "img = Image.open('resources/treasure_island_convenience.png')\n",
    "\n",
    "# create 2 sliders for size and repetitions\n",
    "@widgets.interact(size=(1,30,5), repetitions=(1,10,2))\n",
    "\n",
    "# define a function that takes the values from the sliders and plots the results\n",
    "def sampling(size, repetitions):\n",
    "    # Call the function to plot\n",
    "    plot_sample(size, repetitions) \n",
    "    return"
   ]
  },
  {
   "cell_type": "markdown",
   "id": "652c812d",
   "metadata": {},
   "source": [
    "<div class=\"alert alert-block alert-warning\"> <b>DISCUSS!</b> What do you observe from the plots above? Specifically: <br> <b>How does the mean of the convenience sample compare to the population mean?</b> \n",
    "    <br> <b>Does increasing the sample size provide a better estimate of the population mean? Why or why not?</b>\n",
    "    <br> <b>What does this tell you about the potential bias introduced by convenience sampling?</b></div> "
   ]
  }
 ],
 "metadata": {
  "kernelspec": {
   "display_name": "Python 3 (ipykernel)",
   "language": "python",
   "name": "python3"
  },
  "language_info": {
   "codemirror_mode": {
    "name": "ipython",
    "version": 3
   },
   "file_extension": ".py",
   "mimetype": "text/x-python",
   "name": "python",
   "nbconvert_exporter": "python",
   "pygments_lexer": "ipython3",
   "version": "3.9.13"
  }
 },
 "nbformat": 4,
 "nbformat_minor": 5
}
