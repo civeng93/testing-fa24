{
 "cells": [
  {
   "cell_type": "markdown",
   "id": "fa1d1764",
   "metadata": {},
   "source": [
    "# Engineering Data Analysis\n",
    "\n",
    "> **Mohamad M. Hallal, PhD** <br> Teaching Professor, UC Berkeley\n",
    "\n",
    "[![License](https://img.shields.io/badge/license-CC%20BY--NC--ND%204.0-blue)](https://creativecommons.org/licenses/by-nc-nd/4.0/)\n",
    "***"
   ]
  },
  {
   "cell_type": "markdown",
   "id": "0c1b78be",
   "metadata": {},
   "source": [
    "# Common Continuous Distributions\n",
    "\n",
    "In this notebook, we will explore common continuous distributions and learn how to use them with the `scipy.stats` library. Continuous distributions model scenarios where outcomes are not distinct and can take any value within a range. The `scipy.stats` library provides built-in methods to directly obtain the probability density function (PDF), cumulative distribution function (CDF), mean, variance, and more for these distributions.\n",
    "\n",
    "Let's get started!"
   ]
  },
  {
   "cell_type": "markdown",
   "id": "9828625a",
   "metadata": {},
   "source": [
    "# Exponential Distribution\n",
    "\n",
    "The Exponential distribution models the time between events in a Poisson process. It is characterized by a single parameter, $\\lambda$, which is the rate parameter. However, in Python, the parameter of the exponential distribution is defined as `scale`, which is the reciprocal of the rate.\n",
    "\n",
    "| Distribution  | Python function | Relation to Parameters from Lecture |\n",
    "|:--------------|:----------------|:------------------------------------|\n",
    "| Exponential   | [`expon(scale)`](https://docs.scipy.org/doc/scipy/reference/generated/scipy.stats.expon.html) | `scale=` $1/ \\lambda$ |\n",
    "\n",
    "Similar to common discrete distributions, common continuous distributions have built-in methods to directly calculate summary statistics, PDF, CDF, and even obtain a random sample. Below is a table summarizing some common methods available for continuous distributions in `scipy.stats`:\n",
    "\n",
    "| Method     | Description                                    | General Example    | Exponential Example                |\n",
    "|:-----------|:-----------------------------------------------|:-------------------|:-----------------------------------|\n",
    "| `pdf()`    | Computes the PDF at specific value(s)          | `dist.pdf(x)`      | `expon.pdf(scale=1, x=2)`           |\n",
    "| `cdf()`    | Computes the CDF at specific value(s)          | `dist.cdf(x)`      | `expon.cdf(scale=1, x=2)`           |\n",
    "| `mean()`   | Computes the expected value                    | `dist.mean()`      | `expon.mean(scale=1)`               |\n",
    "| `median()` | Computes the median                            | `dist.median()`    | `expon.median(scale=1)`             |\n",
    "| `var()`    | Computes the variance                          | `dist.var()`       | `expon.var(scale=1)`                |\n",
    "| `std()`    | Computes the standard deviation                | `dist.std()`       | `expon.std(scale=1)`                |\n",
    "| `rvs()`    | Generates random samples from the distribution | `dist.rvs(size=n)` | `expon.rvs(scale=1, size=10)`       |\n",
    "\n",
    "<div class=\"alert alert-block alert-info\"> <b>YOUR TURN!</b> Compute the mean and standard deviation of an Exponential distribution with $\\lambda = 0.5$.</div>"
   ]
  },
  {
   "cell_type": "code",
   "execution_count": null,
   "id": "efc6783d",
   "metadata": {},
   "outputs": [],
   "source": [
    "from scipy.stats import expon\n",
    "\n",
    "# compute mean\n",
    "mean = ...\n",
    "print(f'Mean: {mean:.2f}')\n",
    "\n",
    "# compute standard deviation\n",
    "std = ...\n",
    "print(f'Standard deviation: {std:.2f}')"
   ]
  },
  {
   "cell_type": "markdown",
   "id": "c8277faa",
   "metadata": {},
   "source": [
    "# Normal Distribution\n",
    "\n",
    "The Normal distribution, also known as the Gaussian distribution, is one of the most important continuous distributions. It is characterized by two parameters: the mean ($\\mu$) and the standard deviation ($\\sigma$). It describes data that clusters around a mean.\n",
    "\n",
    "| Distribution  | Python function | Relation to Parameters from Lecture |\n",
    "|:--------------|:----------------|:------------------------------------|\n",
    "| Normal        | [`norm(loc, scale)`](https://docs.scipy.org/doc/scipy/reference/generated/scipy.stats.norm.html) | `loc=` $\\mu$, `scale=` $\\sigma$ |\n",
    "\n",
    "<div class=\"alert alert-block alert-info\"> <b>YOUR TURN!</b> Compute and plot the PDF of a Normal distribution with mean of 50 and standard deviation of 20.</div> "
   ]
  },
  {
   "cell_type": "code",
   "execution_count": null,
   "id": "4df4e881",
   "metadata": {},
   "outputs": [],
   "source": [
    "from scipy.stats import norm\n",
    "import matplotlib.pyplot as plt\n",
    "import numpy as np\n",
    "\n",
    "# Parameters\n",
    "mean = ...   # Mean\n",
    "stdev = ...  # Standard deviation\n",
    "\n",
    "# x values\n",
    "x = np.arange(-10,110)\n",
    "\n",
    "# plot PDF\n",
    "...\n",
    "\n",
    "# label the axes\n",
    "...\n",
    "\n",
    "# control the y axis\n",
    "plt.ylim(0, 0.03)\n",
    "\n",
    "plt.show()"
   ]
  },
  {
   "cell_type": "markdown",
   "id": "a1f601a8",
   "metadata": {},
   "source": [
    "# Lognormal Distribution\n",
    "\n",
    "The Lognormal distribution describes a variable whose logarithm is normally distributed. It is characterized by two parameters: the mean ($\\mu$) and the standard deviation ($\\sigma$) of the variable's natural logarithm.\n",
    "\n",
    "| Distribution  | Python function | Relation to Parameters from Lecture |\n",
    "|:--------------|:----------------|:------------------------------------|\n",
    "| Lognormal     | [`lognorm(s, scale)`](https://docs.scipy.org/doc/scipy/reference/generated/scipy.stats.lognorm.html) |  `s=` $\\sigma$, `scale=` $e^\\mu$ |\n",
    "\n",
    "<div class=\"alert alert-block alert-info\"> <b>YOUR TURN!</b> Compute and plot the PDF of a lognormal distribution with $\\mu=2$ and $\\sigma=1$. Then, calculate the mean and standard deviation.</div> "
   ]
  },
  {
   "cell_type": "code",
   "execution_count": null,
   "id": "88eb95f6",
   "metadata": {},
   "outputs": [],
   "source": [
    "from scipy.stats import lognorm\n",
    "\n",
    "# Parameters\n",
    "mu = ...      \n",
    "sigma = ...   \n",
    "\n",
    "# x values\n",
    "x = np.arange(0,60,0.1)\n",
    "\n",
    "# plot PDF\n",
    "...\n",
    "\n",
    "# label the axes\n",
    "plt.xlabel('X')\n",
    "plt.ylabel('Density')\n",
    "\n",
    "# control the y axis\n",
    "plt.ylim(0, 0.1)\n",
    "\n",
    "plt.show()\n",
    "\n",
    "# compute mean\n",
    "mean = ...\n",
    "print(f'Mean: {mean:.2f}')\n",
    "\n",
    "# compute standard deviation\n",
    "std = ...\n",
    "print(f'Standard deviation: {std:.2f}')"
   ]
  },
  {
   "cell_type": "markdown",
   "id": "9412991c",
   "metadata": {},
   "source": [
    "These are only some of the common discrete distributions. You will explore other common discrete distributions in the lab."
   ]
  }
 ],
 "metadata": {
  "kernelspec": {
   "display_name": "Python 3 (ipykernel)",
   "language": "python",
   "name": "python3"
  },
  "language_info": {
   "codemirror_mode": {
    "name": "ipython",
    "version": 3
   },
   "file_extension": ".py",
   "mimetype": "text/x-python",
   "name": "python",
   "nbconvert_exporter": "python",
   "pygments_lexer": "ipython3",
   "version": "3.9.13"
  }
 },
 "nbformat": 4,
 "nbformat_minor": 5
}
