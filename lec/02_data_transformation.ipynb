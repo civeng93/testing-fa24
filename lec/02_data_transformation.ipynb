{
 "cells": [
  {
   "cell_type": "markdown",
   "id": "fa1d1764",
   "metadata": {},
   "source": [
    "# Engineering Data Analysis\n",
    "\n",
    "> **Mohamad M. Hallal, PhD** <br> Teaching Professor, UC Berkeley\n",
    "\n",
    "[![License](https://img.shields.io/badge/license-CC%20BY--NC--ND%204.0-blue)](https://creativecommons.org/licenses/by-nc-nd/4.0/)\n",
    "***"
   ]
  },
  {
   "cell_type": "markdown",
   "id": "8f294031",
   "metadata": {},
   "source": [
    "# Data Transformation \n",
    "\n",
    "In this notebook, we'll explore how linear transformations (of the form $y = a + bx$) affect descriptive statistics such as mean, median, standard deviation, and range. Use the sliders to adjust the parameters `a` and `b` and see how the statistics change.\n",
    "\n",
    "Let's get started!\n",
    "\n",
    "Run the cell below to define some functions that we will use later. You won't see any output after running this cell because it only defines the function."
   ]
  },
  {
   "cell_type": "code",
   "execution_count": null,
   "id": "fa3cffb7",
   "metadata": {},
   "outputs": [],
   "source": [
    "import matplotlib.pyplot as plt\n",
    "import numpy as np\n",
    "import ipywidgets as widgets  # import ipywidgets package for interactive widgets\n",
    "\n",
    "def plot_horizontal_line(a=0, b=1):\n",
    "    # Define the range for the horizontal line\n",
    "    x_values = list(range(-16, 17, 2))\n",
    "    y_value = 0\n",
    "\n",
    "    # Create the plot\n",
    "    plt.figure(figsize=(10, 2), dpi=300)\n",
    "    \n",
    "    # Set the x-axis limits\n",
    "    plt.xlim(-17, 17)\n",
    "    \n",
    "    original = np.array([0, 2, 4])\n",
    "    \n",
    "    plt.scatter(original, [1]*3, 125, zorder=5, label='x')\n",
    "    \n",
    "    if a!=0 or b!=1:\n",
    "        plt.scatter(a+b*original, [-1]*3, 125, zorder=5, \n",
    "                    label=f\"y={b if b!=1 else ''}x{'+' if a>0 else ''}{a if a!=0 else ''}\")\n",
    "    \n",
    "    # Set the y-axis limits to have no boxes around\n",
    "    plt.ylim(-2, 2)\n",
    "    \n",
    "    # add legend\n",
    "    plt.legend()\n",
    "\n",
    "    # Customize the ticks\n",
    "    plt.xticks(x_values)\n",
    "    plt.yticks([])  # Remove y-axis ticks\n",
    "\n",
    "    # Remove the top and right spines (boxes)\n",
    "    ax = plt.gca()\n",
    "    ax.spines['top'].set_visible(False)\n",
    "    ax.spines['right'].set_visible(False)\n",
    "    ax.spines['left'].set_visible(False)\n",
    "    \n",
    "    # add grid line\n",
    "    ax.grid(ls=':')\n",
    "\n",
    "    # Move the bottom spine (x-axis) to y=0\n",
    "    ax.spines['bottom'].set_position(('data',0))\n",
    "\n",
    "    # Display the plot\n",
    "    plt.show()"
   ]
  },
  {
   "cell_type": "markdown",
   "id": "8794d206",
   "metadata": {},
   "source": [
    "## Original Sample\n",
    "\n",
    "We'll start by generating some sample data. We'll look at a simplified sample with three values: $x = 0, 2, 4$\n",
    "\n",
    "<div class=\"alert alert-block alert-info\"> <b>YOUR TURN!</b> Run the cell below to plot the sample.</div> \n",
    "\n",
    "<div class=\"alert alert-block alert-warning\"> <b>DISCUSS!</b> <b>By looking at the plot, what are the mean, median, standard deviation, and range of the sample?</b></div> \n",
    "\n",
    "*Hint: You don't need to calculate these using their formulas. Look at the plot to visually assess the center and spread of the sample.*"
   ]
  },
  {
   "cell_type": "code",
   "execution_count": null,
   "id": "40114673",
   "metadata": {},
   "outputs": [],
   "source": [
    "# plot the original sample\n",
    "plot_horizontal_line()   "
   ]
  },
  {
   "cell_type": "markdown",
   "id": "44421a8e",
   "metadata": {},
   "source": [
    "## Part I: Adding a Constant\n",
    "\n",
    "Next, we'll investigate the effect of adding or subtracting a constant to each value in the sample ($x+a$) on the summary statistics. \n",
    "\n",
    "<div class=\"alert alert-block alert-info\"> <b>YOUR TURN!</b> Run the cell below and change the slider to adjust the parameter <code>a</code> and see how the sample values change.</div> \n",
    "\n",
    "<div class=\"alert alert-block alert-warning\"> <b>DISCUSS!</b> What do you observe from the plot below? Specifically: <br> <b>What do you notice about the mean of the transformed data? Does it change or remain constant? Why or why not?</b> \n",
    "    <br> <b>Does changing $a$ affect the spread of the data, specifically, the standard deviation and the range? Why or why not?</b>\n",
    "    <br> <b>If the mean or range change, how is this change related to $a$?</b></div> "
   ]
  },
  {
   "cell_type": "code",
   "execution_count": null,
   "id": "0909297b",
   "metadata": {},
   "outputs": [],
   "source": [
    "# create 1 slider for a\n",
    "@widgets.interact(a=(-10,10,1))\n",
    "\n",
    "# define a function that takes the values from the sliders and plots the data\n",
    "def transform(a=1):\n",
    "    # Call the function to plot\n",
    "    plot_horizontal_line(a=a)   \n",
    "    return"
   ]
  },
  {
   "cell_type": "markdown",
   "id": "625c4b48",
   "metadata": {},
   "source": [
    "## Part II: Multiplying by a Constant\n",
    "\n",
    "Next, we'll investigate the effect of multiplying each value in the sample by a constant ($bx$) on the summary statistics.\n",
    "\n",
    "<div class=\"alert alert-block alert-info\"> <b>YOUR TURN!</b> Run the cell below and change the slider to adjust the parameter <code>b</code> and see how the sample values change.</div> \n",
    "\n",
    "<div class=\"alert alert-block alert-warning\"> <b>DISCUSS!</b> What do you observe from the plot below? Specifically: <br> <b>What do you notice about the mean of the transformed data? Does it change or remain constant? Why or why not?</b> \n",
    "    <br> <b>Does changing $b$ affect the spread of the data, specifically, the standard deviation and the range? Why or why not?</b>\n",
    "    <br> <b>If the mean or range change, how is this change related to $b$?</b>\n",
    "    <br> <b>How does a negative constant affect the spread of the data, specifically, the standard deviation and the range? </b></div>"
   ]
  },
  {
   "cell_type": "code",
   "execution_count": null,
   "id": "73451c4a",
   "metadata": {},
   "outputs": [],
   "source": [
    "# create 1 slider for b\n",
    "@widgets.interact(b=(-4,4,1))\n",
    "\n",
    "# define a function that takes the values from the sliders and plots the data\n",
    "def transform(b=2):\n",
    "    # Call the function to plot\n",
    "    plot_horizontal_line(b=b)   \n",
    "    return"
   ]
  },
  {
   "cell_type": "markdown",
   "id": "5c717e0d",
   "metadata": {},
   "source": [
    "## Part III: Putting It All Together\n",
    "\n",
    "Finally, we'll investigate the combined effect of adding a constant and multiplying by a constant ($bx + a$) on the summary statistics. \n",
    "\n",
    "<div class=\"alert alert-block alert-info\"> <b>YOUR TURN!</b> Run the cell below and change the sliders to adjust the parameters <code>a</code> and <code>b</code> and see how the sample values change.</div> \n",
    "\n",
    "<div class=\"alert alert-block alert-warning\"> <b>DISCUSS!</b> What do you observe from the plot below? Specifically: <br> <b>What do you notice about the mean of the transformed data? Does it change or remain constant? Why or why not?</b> \n",
    "    <br> <b>What do you notice about the standard deviation and the range of the transformed data? Does it change or remain constant? Why or why not?</b>\n",
    "    <br> <b>If the mean or range change, how is this change related to $a$ and $b$?</b></div>"
   ]
  },
  {
   "cell_type": "code",
   "execution_count": null,
   "id": "2b2a0943",
   "metadata": {},
   "outputs": [],
   "source": [
    "# create 2 sliders for a and b\n",
    "@widgets.interact(a=(-4,4,1), b=(-3,3,1))\n",
    "\n",
    "# define a function that takes the values from the sliders and plots the data\n",
    "def transform(a=1, b=2):\n",
    "    # Call the function to plot\n",
    "    plot_horizontal_line(a, b)   \n",
    "    return"
   ]
  }
 ],
 "metadata": {
  "kernelspec": {
   "display_name": "Python 3 (ipykernel)",
   "language": "python",
   "name": "python3"
  },
  "language_info": {
   "codemirror_mode": {
    "name": "ipython",
    "version": 3
   },
   "file_extension": ".py",
   "mimetype": "text/x-python",
   "name": "python",
   "nbconvert_exporter": "python",
   "pygments_lexer": "ipython3",
   "version": "3.11.9"
  }
 },
 "nbformat": 4,
 "nbformat_minor": 5
}
